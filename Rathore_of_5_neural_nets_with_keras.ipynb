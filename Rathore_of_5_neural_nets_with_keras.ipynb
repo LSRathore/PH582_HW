{
  "cells": [
    {
      "cell_type": "markdown",
      "metadata": {
        "id": "view-in-github",
        "colab_type": "text"
      },
      "source": [
        "<a href=\"https://colab.research.google.com/github/LSRathore/PH582_HW/blob/main/Rathore_of_5_neural_nets_with_keras.ipynb\" target=\"_parent\"><img src=\"https://colab.research.google.com/assets/colab-badge.svg\" alt=\"Open In Colab\"/></a>"
      ]
    },
    {
      "cell_type": "markdown",
      "metadata": {
        "id": "BY8l_n5IV3ft"
      },
      "source": [
        "# Hands On #5"
      ]
    },
    {
      "cell_type": "markdown",
      "metadata": {
        "id": "piBSRAqc96nN"
      },
      "source": [
        "**Chapter 10 – Introduction to Artificial Neural Networks with Keras**"
      ]
    },
    {
      "cell_type": "markdown",
      "metadata": {
        "id": "HHV7nhB0V3fy"
      },
      "source": [
        "<table align=\"left\">\n",
        "  <td>\n",
        "    <a target=\"_blank\" href=\"https://colab.research.google.com/github/UAPH4582/PH482_582_Sp22/blob/main/Exercises/05_neural_nets_with_keras.ipynb\"><img src=\"https://www.tensorflow.org/images/colab_logo_32px.png\" />Run in Google Colab</a>\n",
        "  </td>\n",
        "</table>"
      ]
    },
    {
      "cell_type": "markdown",
      "metadata": {
        "id": "TJ8mRu1GV3fy"
      },
      "source": [
        "Due date: 2022-03-07\n",
        "\n",
        "File name convention: For group 42 and memebers Richard Stallman and Linus Torvalds it would be \n",
        "\"05_neural_nets_with_keras_Stallman_Torvalds.pdf\".\n",
        "\n",
        "Submission via blackboard (UA) or Google Form (see notion, LPC).\n",
        "\n",
        "Feel free to answer free text questions in text cells using markdown and possibly $\\LaTeX{}$ if you want to.\n",
        "\n",
        "**You don't have to understand every line of code here and it is not intended for you to try to understand every line of code.   \n",
        "Big blocks of code are usually meant to just be clicked through.**"
      ]
    },
    {
      "cell_type": "markdown",
      "metadata": {
        "id": "C3TTeAuN96nU"
      },
      "source": [
        "# Setup"
      ]
    },
    {
      "cell_type": "code",
      "execution_count": 1,
      "metadata": {
        "id": "y3_Ulmke96nV"
      },
      "outputs": [],
      "source": [
        "import sys\n",
        "assert sys.version_info >= (3, 5)\n",
        "\n",
        "import sklearn\n",
        "assert sklearn.__version__ >= \"0.20\"\n",
        "\n",
        "try:\n",
        "    # %tensorflow_version only exists in Colab.\n",
        "    %tensorflow_version 2.x\n",
        "except Exception:\n",
        "    pass\n",
        "\n",
        "import tensorflow as tf\n",
        "assert tf.__version__ >= \"2.0\"\n",
        "\n",
        "import numpy as np\n",
        "import os\n",
        "\n",
        "np.random.seed(42)\n",
        "\n",
        "%matplotlib inline\n",
        "import matplotlib as mpl\n",
        "import matplotlib.pyplot as plt\n",
        "mpl.rc('axes', labelsize=14)\n",
        "mpl.rc('xtick', labelsize=12)\n",
        "mpl.rc('ytick', labelsize=12)"
      ]
    },
    {
      "cell_type": "markdown",
      "metadata": {
        "id": "AKK8dS-C96nW"
      },
      "source": [
        "# Perceptrons"
      ]
    },
    {
      "cell_type": "markdown",
      "metadata": {
        "id": "T2GbE_Wj96nW"
      },
      "source": [
        "**Note**: we set `max_iter` and `tol` explicitly to avoid warnings about the fact that their default value will change in future versions of Scikit-Learn."
      ]
    },
    {
      "cell_type": "code",
      "execution_count": 2,
      "metadata": {
        "id": "bc419YFJ96nX"
      },
      "outputs": [],
      "source": [
        "import numpy as np\n",
        "from sklearn.datasets import load_iris\n",
        "from sklearn.linear_model import Perceptron\n",
        "\n",
        "iris = load_iris()\n",
        "X = iris.data[:, (2, 3)]  # petal length, petal width\n",
        "y = (iris.target == 0).astype(int)"
      ]
    },
    {
      "cell_type": "markdown",
      "metadata": {
        "id": "Tut21LOA-I2r"
      },
      "source": [
        "### Task 1:\n",
        "Fit the iris dataset into a Perceptron layer and predict the class of a sample with length 2 and width 0.5. \n",
        "\n",
        "Use: \n",
        "`max_iter=1000`, `tol =1e-3` and `random_state= 42`.\n",
        "\n",
        "\n",
        "\n"
      ]
    },
    {
      "cell_type": "markdown",
      "metadata": {
        "id": "nsnymzLuLvm2"
      },
      "source": [
        "↓↓↓↓↓↓↓↓↓↓↓↓↓↓↓↓↓↓↓↓↓↓↓↓↓↓↓↓↓↓↓ your code goes below"
      ]
    },
    {
      "cell_type": "code",
      "execution_count": 3,
      "metadata": {
        "id": "-5wg3vIj3gxL"
      },
      "outputs": [],
      "source": [
        "per_clf = Perceptron(max_iter=1000, tol =1e-3, random_state = 42)\n",
        "per_clf.fit(X,y)\n",
        "y_pred = per_clf.predict([[2, 0.5]])"
      ]
    },
    {
      "cell_type": "code",
      "execution_count": 4,
      "metadata": {
        "id": "RU8nJGQo96nY",
        "outputId": "339c4240-6c28-4b51-9050-62a02f1576b4",
        "colab": {
          "base_uri": "https://localhost:8080/"
        }
      },
      "outputs": [
        {
          "output_type": "execute_result",
          "data": {
            "text/plain": [
              "array([1])"
            ]
          },
          "metadata": {},
          "execution_count": 4
        }
      ],
      "source": [
        "y_pred"
      ]
    },
    {
      "cell_type": "markdown",
      "metadata": {
        "id": "L33GBuxILvm4"
      },
      "source": [
        "↑↑↑↑↑↑↑↑↑↑↑↑↑↑↑↑↑↑↑↑↑↑↑↑↑↑↑↑↑↑↑ your code goes above"
      ]
    },
    {
      "cell_type": "code",
      "execution_count": 5,
      "metadata": {
        "id": "KzqgH5uG96nZ",
        "outputId": "951ad3d5-39b8-4799-d107-ce1dac773178",
        "colab": {
          "base_uri": "https://localhost:8080/",
          "height": 291
        }
      },
      "outputs": [
        {
          "output_type": "display_data",
          "data": {
            "image/png": "[encoded data removed]",
            "text/plain": [
              "<Figure size 720x288 with 1 Axes>"
            ]
          },
          "metadata": {
            "needs_background": "light"
          }
        }
      ],
      "source": [
        "a = -per_clf.coef_[0][0] / per_clf.coef_[0][1]\n",
        "b = -per_clf.intercept_ / per_clf.coef_[0][1]\n",
        "\n",
        "axes = [0, 5, 0, 2]\n",
        "\n",
        "x0, x1 = np.meshgrid(\n",
        "        np.linspace(axes[0], axes[1], 500).reshape(-1, 1),\n",
        "        np.linspace(axes[2], axes[3], 200).reshape(-1, 1),\n",
        "    )\n",
        "X_new = np.c_[x0.ravel(), x1.ravel()]\n",
        "y_predict = per_clf.predict(X_new)\n",
        "zz = y_predict.reshape(x0.shape)\n",
        "\n",
        "plt.figure(figsize=(10, 4))\n",
        "plt.plot(X[y==0, 0], X[y==0, 1], \"bs\", label=\"Not Iris-Setosa\")\n",
        "plt.plot(X[y==1, 0], X[y==1, 1], \"yo\", label=\"Iris-Setosa\")\n",
        "\n",
        "plt.plot([axes[0], axes[1]], [a * axes[0] + b, a * axes[1] + b], \"k-\", linewidth=3)\n",
        "from matplotlib.colors import ListedColormap\n",
        "custom_cmap = ListedColormap(['#9898ff', '#fafab0'])\n",
        "\n",
        "plt.contourf(x0, x1, zz, cmap=custom_cmap)\n",
        "plt.xlabel(\"Petal length\", fontsize=14)\n",
        "plt.ylabel(\"Petal width\", fontsize=14)\n",
        "plt.legend(loc=\"lower right\", fontsize=14)\n",
        "plt.axis(axes)\n",
        "plt.show()"
      ]
    },
    {
      "cell_type": "markdown",
      "metadata": {
        "id": "c7AzNDaU-xOV"
      },
      "source": [
        "### Task 2\n",
        " Elaborate on the difference between a perceptron and logistic regression."
      ]
    },
    {
      "cell_type": "markdown",
      "metadata": {
        "id": "toJmgIBFV3f7"
      },
      "source": [
        "↓↓↓↓↓↓↓↓↓↓↓↓↓↓↓↓↓↓↓↓↓↓↓↓↓↓↓↓↓↓↓ your code goes below"
      ]
    },
    {
      "cell_type": "markdown",
      "metadata": {
        "id": "QIGB1c4CV3f7"
      },
      "source": [
        "Task 2 answer: We can use the perceptron algorithm if the dataset is linearly separable. Otherwise, it won't converge. The Logistic Regression output is class probabilities which give you the output in the range between 0 to 1, but the activation function of Perceptron output is the unit step(0 or 1)"
      ]
    },
    {
      "cell_type": "markdown",
      "metadata": {
        "id": "gGval4iYV3f7"
      },
      "source": [
        "↑↑↑↑↑↑↑↑↑↑↑↑↑↑↑↑↑↑↑↑↑↑↑↑↑↑↑↑↑↑↑ your code goes above"
      ]
    },
    {
      "cell_type": "markdown",
      "metadata": {
        "id": "AZr175SP96na"
      },
      "source": [
        "# Activation functions"
      ]
    },
    {
      "cell_type": "markdown",
      "metadata": {
        "id": "uBhSPTlaDZcE"
      },
      "source": [
        "### Task 3\n",
        " Describe the role of activation functions within a neural network. What would be a neural network without these functions? "
      ]
    },
    {
      "cell_type": "markdown",
      "metadata": {
        "id": "a0GfrQmSV3f8"
      },
      "source": [
        "↓↓↓↓↓↓↓↓↓↓↓↓↓↓↓↓↓↓↓↓↓↓↓↓↓↓↓↓↓↓↓ your code goes below"
      ]
    },
    {
      "cell_type": "markdown",
      "metadata": {
        "id": "OMwnMNVYV3f9"
      },
      "source": [
        "Task 3 answer: he activation function decides whether a neuron should be activated or not. Activation function added into ANN to help the network learn complex patterns in the data. The purpose of the activation function is to introduce non-linearity into the output of a neuron. Without an activation function, it is just a linear regression model."
      ]
    },
    {
      "cell_type": "markdown",
      "metadata": {
        "id": "I4RKeazuV3f9"
      },
      "source": [
        "↑↑↑↑↑↑↑↑↑↑↑↑↑↑↑↑↑↑↑↑↑↑↑↑↑↑↑↑↑↑↑ your code goes above"
      ]
    },
    {
      "cell_type": "markdown",
      "metadata": {
        "id": "4zZHVAV096nd"
      },
      "source": [
        "# Building an Image Classifier"
      ]
    },
    {
      "cell_type": "markdown",
      "metadata": {
        "id": "D6d_vhWv96nd"
      },
      "source": [
        "First let's import TensorFlow and Keras."
      ]
    },
    {
      "cell_type": "code",
      "execution_count": 6,
      "metadata": {
        "id": "H2XiMCMx96nd"
      },
      "outputs": [],
      "source": [
        "import tensorflow as tf\n",
        "from tensorflow import keras"
      ]
    },
    {
      "cell_type": "markdown",
      "metadata": {
        "id": "0IC001Fj96ne"
      },
      "source": [
        "Let's start by loading the [fashion MNIST](https://github.com/zalandoresearch/fashion-mnist) dataset. Keras has a number of functions to load popular datasets in `keras.datasets`. The dataset is already split for you between a training set and a test set, but it can be useful to split the training set further to have a validation set:"
      ]
    },
    {
      "cell_type": "code",
      "execution_count": 7,
      "metadata": {
        "id": "k1Vd2nar96ne",
        "outputId": "d7977095-a636-4e35-ba1b-21c2d5035a0c",
        "colab": {
          "base_uri": "https://localhost:8080/"
        }
      },
      "outputs": [
        {
          "output_type": "stream",
          "name": "stdout",
          "text": [
            "Downloading data from https://storage.googleapis.com/tensorflow/tf-keras-datasets/train-labels-idx1-ubyte.gz\n",
            "32768/29515 [=================================] - 0s 0us/step\n",
            "40960/29515 [=========================================] - 0s 0us/step\n",
            "Downloading data from https://storage.googleapis.com/tensorflow/tf-keras-datasets/train-images-idx3-ubyte.gz\n",
            "26427392/26421880 [==============================] - 0s 0us/step\n",
            "26435584/26421880 [==============================] - 0s 0us/step\n",
            "Downloading data from https://storage.googleapis.com/tensorflow/tf-keras-datasets/t10k-labels-idx1-ubyte.gz\n",
            "16384/5148 [===============================================================================================] - 0s 0us/step\n",
            "Downloading data from https://storage.googleapis.com/tensorflow/tf-keras-datasets/t10k-images-idx3-ubyte.gz\n",
            "4423680/4422102 [==============================] - 0s 0us/step\n",
            "4431872/4422102 [==============================] - 0s 0us/step\n"
          ]
        }
      ],
      "source": [
        "fashion_mnist = keras.datasets.fashion_mnist\n",
        "(X_train_full, y_train_full), (X_test, y_test) = fashion_mnist.load_data()"
      ]
    },
    {
      "cell_type": "markdown",
      "metadata": {
        "id": "Bm2mJI2v96ne"
      },
      "source": [
        "The training set contains 60,000 grayscale images, each 28x28 pixels:"
      ]
    },
    {
      "cell_type": "code",
      "execution_count": 8,
      "metadata": {
        "id": "mKeNURr096nf",
        "outputId": "743c6ee3-1bac-465d-b92e-796b64924568",
        "colab": {
          "base_uri": "https://localhost:8080/"
        }
      },
      "outputs": [
        {
          "output_type": "execute_result",
          "data": {
            "text/plain": [
              "(60000, 28, 28)"
            ]
          },
          "metadata": {},
          "execution_count": 8
        }
      ],
      "source": [
        "X_train_full.shape"
      ]
    },
    {
      "cell_type": "markdown",
      "metadata": {
        "id": "2q7eH1GS96nf"
      },
      "source": [
        "Each pixel intensity is represented as a byte (0 to 255):"
      ]
    },
    {
      "cell_type": "code",
      "execution_count": 9,
      "metadata": {
        "id": "JpJBj89g96ng",
        "outputId": "1ca0c4f7-dd6a-4b01-da7e-7275b7c2f420",
        "colab": {
          "base_uri": "https://localhost:8080/"
        }
      },
      "outputs": [
        {
          "output_type": "execute_result",
          "data": {
            "text/plain": [
              "dtype('uint8')"
            ]
          },
          "metadata": {},
          "execution_count": 9
        }
      ],
      "source": [
        "X_train_full.dtype"
      ]
    },
    {
      "cell_type": "markdown",
      "metadata": {
        "id": "up_jreEp96ng"
      },
      "source": [
        "Let's split the full training set into a validation set and a (smaller) training set. We also scale the pixel intensities down to the 0-1 range and convert them to floats, by dividing by 255."
      ]
    },
    {
      "cell_type": "code",
      "execution_count": 10,
      "metadata": {
        "id": "AAZzoYRD96ng"
      },
      "outputs": [],
      "source": [
        "X_valid, X_train = X_train_full[:5000] / 255., X_train_full[5000:] / 255.\n",
        "y_valid, y_train = y_train_full[:5000], y_train_full[5000:]\n",
        "X_test = X_test / 255."
      ]
    },
    {
      "cell_type": "markdown",
      "metadata": {
        "id": "IG-ZXYbM96ng"
      },
      "source": [
        "You can plot an image using Matplotlib's `imshow()` function, with a `'binary'`\n",
        " color map:"
      ]
    },
    {
      "cell_type": "code",
      "execution_count": 11,
      "metadata": {
        "id": "h5qfRYzl96ng",
        "outputId": "7ec0ceaa-3222-47b7-d031-58f4cb9dcd9a",
        "colab": {
          "base_uri": "https://localhost:8080/",
          "height": 248
        }
      },
      "outputs": [
        {
          "output_type": "display_data",
          "data": {
            "image/png": "[encoded data removed]",
            "text/plain": [
              "<Figure size 432x288 with 1 Axes>"
            ]
          },
          "metadata": {
            "needs_background": "light"
          }
        }
      ],
      "source": [
        "plt.imshow(X_train[55], cmap=\"binary\")\n",
        "plt.axis('off')\n",
        "plt.show()"
      ]
    },
    {
      "cell_type": "markdown",
      "metadata": {
        "id": "0HIhKfBK96nh"
      },
      "source": [
        "The labels are the class IDs (represented as uint8), from 0 to 9:"
      ]
    },
    {
      "cell_type": "code",
      "execution_count": 12,
      "metadata": {
        "id": "CC0hpimX96nh",
        "outputId": "f6ac8514-77f9-486f-84d3-49a7c7aa952f",
        "colab": {
          "base_uri": "https://localhost:8080/"
        }
      },
      "outputs": [
        {
          "output_type": "execute_result",
          "data": {
            "text/plain": [
              "6"
            ]
          },
          "metadata": {},
          "execution_count": 12
        }
      ],
      "source": [
        "y_train[55]"
      ]
    },
    {
      "cell_type": "markdown",
      "metadata": {
        "id": "XuQH9NeY96nh"
      },
      "source": [
        "Here are the corresponding class names:"
      ]
    },
    {
      "cell_type": "code",
      "execution_count": 13,
      "metadata": {
        "id": "6DnDTta596nh"
      },
      "outputs": [],
      "source": [
        "class_names = [\"T-shirt/top\", \"Trouser\", \"Pullover\", \"Dress\", \"Coat\",\n",
        "               \"Sandal\", \"Shirt\", \"Sneaker\", \"Bag\", \"Ankle boot\"]"
      ]
    },
    {
      "cell_type": "markdown",
      "metadata": {
        "id": "7Z3ctcPE96ni"
      },
      "source": [
        "So the first image in the training set is a coat:"
      ]
    },
    {
      "cell_type": "code",
      "execution_count": 14,
      "metadata": {
        "id": "wo3nXTyr96ni",
        "outputId": "58d314ef-8e3d-4892-d5b8-253f961fb25e",
        "colab": {
          "base_uri": "https://localhost:8080/",
          "height": 35
        }
      },
      "outputs": [
        {
          "output_type": "execute_result",
          "data": {
            "application/vnd.google.colaboratory.intrinsic+json": {
              "type": "string"
            },
            "text/plain": [
              "'Coat'"
            ]
          },
          "metadata": {},
          "execution_count": 14
        }
      ],
      "source": [
        "class_names[y_train[0]]"
      ]
    },
    {
      "cell_type": "markdown",
      "metadata": {
        "id": "CSVf64Kv96ni"
      },
      "source": [
        "The validation set contains 5,000 images, and the test set contains 10,000 images:"
      ]
    },
    {
      "cell_type": "code",
      "execution_count": 15,
      "metadata": {
        "id": "r3DPLv7496ni",
        "outputId": "ef4323c0-07b5-49d6-d921-9cd336a18aff",
        "colab": {
          "base_uri": "https://localhost:8080/"
        }
      },
      "outputs": [
        {
          "output_type": "execute_result",
          "data": {
            "text/plain": [
              "(5000, 28, 28)"
            ]
          },
          "metadata": {},
          "execution_count": 15
        }
      ],
      "source": [
        "X_valid.shape"
      ]
    },
    {
      "cell_type": "code",
      "execution_count": 16,
      "metadata": {
        "id": "oBVt2-n196nj",
        "outputId": "77597130-e7f3-4f3e-8d7f-598226e7f3d7",
        "colab": {
          "base_uri": "https://localhost:8080/"
        }
      },
      "outputs": [
        {
          "output_type": "execute_result",
          "data": {
            "text/plain": [
              "(10000, 28, 28)"
            ]
          },
          "metadata": {},
          "execution_count": 16
        }
      ],
      "source": [
        "X_test.shape"
      ]
    },
    {
      "cell_type": "markdown",
      "metadata": {
        "id": "cr7f-I2i96nj"
      },
      "source": [
        "Let's take a look at a sample of the images in the dataset:"
      ]
    },
    {
      "cell_type": "code",
      "execution_count": 17,
      "metadata": {
        "id": "OiwEaciG96nj",
        "outputId": "00227ac7-c27b-408c-ec70-0eb2affe7eba",
        "colab": {
          "base_uri": "https://localhost:8080/",
          "height": 308
        }
      },
      "outputs": [
        {
          "output_type": "display_data",
          "data": {
            "image/png": "[encoded data removed]",
            "text/plain": [
              "<Figure size 864x345.6 with 40 Axes>"
            ]
          },
          "metadata": {
            "needs_background": "light"
          }
        }
      ],
      "source": [
        "n_rows = 4\n",
        "n_cols = 10\n",
        "plt.figure(figsize=(n_cols * 1.2, n_rows * 1.2))\n",
        "for row in range(n_rows):\n",
        "    for col in range(n_cols):\n",
        "        index = n_cols * row + col\n",
        "        plt.subplot(n_rows, n_cols, index + 1)\n",
        "        plt.imshow(X_train[index], cmap=\"binary\", interpolation=\"nearest\")\n",
        "        plt.axis('off')\n",
        "        plt.title(class_names[y_train[index]], fontsize=12)\n",
        "plt.subplots_adjust(wspace=0.2, hspace=0.5)\n",
        "plt.show()"
      ]
    },
    {
      "cell_type": "markdown",
      "metadata": {
        "id": "t1G5vYM4AEYy"
      },
      "source": [
        "**Training a neural network using Keras:** In the cells below we  build an deep neural network model using Keras Sequential tool. The input is an image of shape 28 by 28. We use a network with 2 hidden layers with 300 and 100 neurons, respectively. The 'softmax' output activation function is used for multi-label classification.  "
      ]
    },
    {
      "cell_type": "code",
      "execution_count": 18,
      "metadata": {
        "id": "MFYpKULg96nk"
      },
      "outputs": [],
      "source": [
        "keras.backend.clear_session()\n",
        "np.random.seed(42)\n",
        "tf.random.set_seed(42)"
      ]
    },
    {
      "cell_type": "code",
      "execution_count": 19,
      "metadata": {
        "id": "nHTrilwL96nk"
      },
      "outputs": [],
      "source": [
        "model = keras.models.Sequential([\n",
        "    keras.layers.Flatten(input_shape=[28, 28]),\n",
        "    keras.layers.Dense(300, activation=\"relu\"),\n",
        "    keras.layers.Dense(100, activation=\"relu\"),\n",
        "    keras.layers.Dense(10, activation=\"softmax\")\n",
        "])"
      ]
    },
    {
      "cell_type": "code",
      "execution_count": 20,
      "metadata": {
        "id": "S6wLCkUc96nk",
        "outputId": "763337b2-be73-4b56-b700-b63d9803978b",
        "colab": {
          "base_uri": "https://localhost:8080/"
        }
      },
      "outputs": [
        {
          "output_type": "stream",
          "name": "stdout",
          "text": [
            "Model: \"sequential\"\n",
            "_________________________________________________________________\n",
            " Layer (type)                Output Shape              Param #   \n",
            "=================================================================\n",
            " flatten (Flatten)           (None, 784)               0         \n",
            "                                                                 \n",
            " dense (Dense)               (None, 300)               235500    \n",
            "                                                                 \n",
            " dense_1 (Dense)             (None, 100)               30100     \n",
            "                                                                 \n",
            " dense_2 (Dense)             (None, 10)                1010      \n",
            "                                                                 \n",
            "=================================================================\n",
            "Total params: 266,610\n",
            "Trainable params: 266,610\n",
            "Non-trainable params: 0\n",
            "_________________________________________________________________\n"
          ]
        }
      ],
      "source": [
        "model.summary()"
      ]
    },
    {
      "cell_type": "code",
      "execution_count": 21,
      "metadata": {
        "id": "rt04f4Ug96nl",
        "outputId": "b548f2d9-3b63-4688-b38b-cd5abaa87bb5",
        "colab": {
          "base_uri": "https://localhost:8080/",
          "height": 533
        }
      },
      "outputs": [
        {
          "output_type": "execute_result",
          "data": {
            "image/png": "[encoded data removed]",
            "text/plain": [
              "<IPython.core.display.Image object>"
            ]
          },
          "metadata": {},
          "execution_count": 21
        }
      ],
      "source": [
        "keras.utils.plot_model(model, show_shapes=True)"
      ]
    },
    {
      "cell_type": "markdown",
      "metadata": {
        "id": "6C1nlLd4V3gF"
      },
      "source": [
        "We can look at the layers directly:"
      ]
    },
    {
      "cell_type": "code",
      "execution_count": 22,
      "metadata": {
        "id": "QV0-Y0WIV3gG",
        "outputId": "68bd7b19-9a78-4aa7-e115-d87b0798294f",
        "colab": {
          "base_uri": "https://localhost:8080/",
          "height": 35
        }
      },
      "outputs": [
        {
          "output_type": "execute_result",
          "data": {
            "application/vnd.google.colaboratory.intrinsic+json": {
              "type": "string"
            },
            "text/plain": [
              "'dense'"
            ]
          },
          "metadata": {},
          "execution_count": 22
        }
      ],
      "source": [
        "hidden1 = model.layers[1]\n",
        "hidden1.name"
      ]
    },
    {
      "cell_type": "code",
      "execution_count": 23,
      "metadata": {
        "id": "KVQqeMeS96nl",
        "outputId": "929a4f27-b0c4-4be8-b58b-5f627b91cfb6",
        "colab": {
          "base_uri": "https://localhost:8080/"
        }
      },
      "outputs": [
        {
          "output_type": "execute_result",
          "data": {
            "text/plain": [
              "True"
            ]
          },
          "metadata": {},
          "execution_count": 23
        }
      ],
      "source": [
        "model.get_layer(hidden1.name) is hidden1"
      ]
    },
    {
      "cell_type": "code",
      "execution_count": 24,
      "metadata": {
        "id": "eR5m6LjX96nl"
      },
      "outputs": [],
      "source": [
        "weights, biases = hidden1.get_weights()"
      ]
    },
    {
      "cell_type": "code",
      "execution_count": 25,
      "metadata": {
        "id": "ETO_Mi2f96nm",
        "outputId": "1635e0ae-383b-4e92-82cc-8353a87e898a",
        "colab": {
          "base_uri": "https://localhost:8080/"
        }
      },
      "outputs": [
        {
          "output_type": "execute_result",
          "data": {
            "text/plain": [
              "array([[ 0.02448617, -0.00877795, -0.02189048, ..., -0.02766046,\n",
              "         0.03859074, -0.06889391],\n",
              "       [ 0.00476504, -0.03105379, -0.0586676 , ...,  0.00602964,\n",
              "        -0.02763776, -0.04165364],\n",
              "       [-0.06189284, -0.06901957,  0.07102345, ..., -0.04238207,\n",
              "         0.07121518, -0.07331658],\n",
              "       ...,\n",
              "       [-0.03048757,  0.02155137, -0.05400612, ..., -0.00113463,\n",
              "         0.00228987,  0.05581069],\n",
              "       [ 0.07061854, -0.06960931,  0.07038955, ..., -0.00384101,\n",
              "         0.00034875,  0.02878492],\n",
              "       [-0.06022581,  0.01577859, -0.02585464, ..., -0.00527829,\n",
              "         0.00272203, -0.06793761]], dtype=float32)"
            ]
          },
          "metadata": {},
          "execution_count": 25
        }
      ],
      "source": [
        "weights"
      ]
    },
    {
      "cell_type": "code",
      "execution_count": 26,
      "metadata": {
        "id": "i-AWFPWX96nm",
        "outputId": "5e21d1f5-da25-4c65-bae9-4ac0e3fe5e23",
        "colab": {
          "base_uri": "https://localhost:8080/"
        }
      },
      "outputs": [
        {
          "output_type": "execute_result",
          "data": {
            "text/plain": [
              "(784, 300)"
            ]
          },
          "metadata": {},
          "execution_count": 26
        }
      ],
      "source": [
        "weights.shape"
      ]
    },
    {
      "cell_type": "code",
      "execution_count": 27,
      "metadata": {
        "colab": {
          "base_uri": "https://localhost:8080/"
        },
        "id": "qb7RJWWg96nm",
        "outputId": "5006706f-baa0-4c29-a71b-9fe58927dfbd"
      },
      "outputs": [
        {
          "output_type": "execute_result",
          "data": {
            "text/plain": [
              "array([0., 0., 0., 0., 0., 0., 0., 0., 0., 0., 0., 0., 0., 0., 0., 0., 0.,\n",
              "       0., 0., 0., 0., 0., 0., 0., 0., 0., 0., 0., 0., 0., 0., 0., 0., 0.,\n",
              "       0., 0., 0., 0., 0., 0., 0., 0., 0., 0., 0., 0., 0., 0., 0., 0., 0.,\n",
              "       0., 0., 0., 0., 0., 0., 0., 0., 0., 0., 0., 0., 0., 0., 0., 0., 0.,\n",
              "       0., 0., 0., 0., 0., 0., 0., 0., 0., 0., 0., 0., 0., 0., 0., 0., 0.,\n",
              "       0., 0., 0., 0., 0., 0., 0., 0., 0., 0., 0., 0., 0., 0., 0., 0., 0.,\n",
              "       0., 0., 0., 0., 0., 0., 0., 0., 0., 0., 0., 0., 0., 0., 0., 0., 0.,\n",
              "       0., 0., 0., 0., 0., 0., 0., 0., 0., 0., 0., 0., 0., 0., 0., 0., 0.,\n",
              "       0., 0., 0., 0., 0., 0., 0., 0., 0., 0., 0., 0., 0., 0., 0., 0., 0.,\n",
              "       0., 0., 0., 0., 0., 0., 0., 0., 0., 0., 0., 0., 0., 0., 0., 0., 0.,\n",
              "       0., 0., 0., 0., 0., 0., 0., 0., 0., 0., 0., 0., 0., 0., 0., 0., 0.,\n",
              "       0., 0., 0., 0., 0., 0., 0., 0., 0., 0., 0., 0., 0., 0., 0., 0., 0.,\n",
              "       0., 0., 0., 0., 0., 0., 0., 0., 0., 0., 0., 0., 0., 0., 0., 0., 0.,\n",
              "       0., 0., 0., 0., 0., 0., 0., 0., 0., 0., 0., 0., 0., 0., 0., 0., 0.,\n",
              "       0., 0., 0., 0., 0., 0., 0., 0., 0., 0., 0., 0., 0., 0., 0., 0., 0.,\n",
              "       0., 0., 0., 0., 0., 0., 0., 0., 0., 0., 0., 0., 0., 0., 0., 0., 0.,\n",
              "       0., 0., 0., 0., 0., 0., 0., 0., 0., 0., 0., 0., 0., 0., 0., 0., 0.,\n",
              "       0., 0., 0., 0., 0., 0., 0., 0., 0., 0., 0.], dtype=float32)"
            ]
          },
          "metadata": {},
          "execution_count": 27
        }
      ],
      "source": [
        "biases"
      ]
    },
    {
      "cell_type": "code",
      "execution_count": 28,
      "metadata": {
        "id": "SRfITXCA96nm",
        "outputId": "ef371644-468d-4b56-cd59-5f6abc0ec720",
        "colab": {
          "base_uri": "https://localhost:8080/"
        }
      },
      "outputs": [
        {
          "output_type": "execute_result",
          "data": {
            "text/plain": [
              "(300,)"
            ]
          },
          "metadata": {},
          "execution_count": 28
        }
      ],
      "source": [
        "biases.shape"
      ]
    },
    {
      "cell_type": "markdown",
      "metadata": {
        "id": "pDu2dLD8BbeJ"
      },
      "source": [
        "**Compilation:**  \n",
        "We compile the model using the \"sparse_categorical_crossentropy\" loss function and \"accuracy\" as metric for a multi-label classification task. In addition, we choose the \"sgd\" optimizer."
      ]
    },
    {
      "cell_type": "code",
      "execution_count": 29,
      "metadata": {
        "id": "Iha1BNF296nn"
      },
      "outputs": [],
      "source": [
        "model.compile(loss=\"sparse_categorical_crossentropy\",\n",
        "              optimizer=\"sgd\",\n",
        "              metrics=[\"accuracy\"])"
      ]
    },
    {
      "cell_type": "markdown",
      "metadata": {
        "id": "Z01D2HtY6B4r"
      },
      "source": [
        "Now let's train the model for 30 epochs.\n",
        "\n",
        "We save the most crucial parameters (['loss', 'accuracy', 'val_loss', 'val_accuracy']) in a dictionary named \"history\". "
      ]
    },
    {
      "cell_type": "code",
      "execution_count": 30,
      "metadata": {
        "id": "niNnbD7U96no",
        "outputId": "55d81cbd-a97f-4160-d621-2b9af955eb3e",
        "colab": {
          "base_uri": "https://localhost:8080/"
        }
      },
      "outputs": [
        {
          "output_type": "stream",
          "name": "stdout",
          "text": [
            "Epoch 1/30\n",
            "1719/1719 [==============================] - 10s 4ms/step - loss: 0.7237 - accuracy: 0.7643 - val_loss: 0.5209 - val_accuracy: 0.8222\n",
            "Epoch 2/30\n",
            "1719/1719 [==============================] - 6s 4ms/step - loss: 0.4842 - accuracy: 0.8318 - val_loss: 0.4344 - val_accuracy: 0.8536\n",
            "Epoch 3/30\n",
            "1719/1719 [==============================] - 6s 4ms/step - loss: 0.4390 - accuracy: 0.8456 - val_loss: 0.5260 - val_accuracy: 0.8010\n",
            "Epoch 4/30\n",
            "1719/1719 [==============================] - 8s 5ms/step - loss: 0.4123 - accuracy: 0.8567 - val_loss: 0.3915 - val_accuracy: 0.8652\n",
            "Epoch 5/30\n",
            "1719/1719 [==============================] - 7s 4ms/step - loss: 0.3940 - accuracy: 0.8621 - val_loss: 0.3742 - val_accuracy: 0.8690\n",
            "Epoch 6/30\n",
            "1719/1719 [==============================] - 6s 4ms/step - loss: 0.3750 - accuracy: 0.8676 - val_loss: 0.3704 - val_accuracy: 0.8734\n",
            "Epoch 7/30\n",
            "1719/1719 [==============================] - 6s 4ms/step - loss: 0.3631 - accuracy: 0.8711 - val_loss: 0.3615 - val_accuracy: 0.8714\n",
            "Epoch 8/30\n",
            "1719/1719 [==============================] - 7s 4ms/step - loss: 0.3517 - accuracy: 0.8753 - val_loss: 0.3846 - val_accuracy: 0.8618\n",
            "Epoch 9/30\n",
            "1719/1719 [==============================] - 6s 4ms/step - loss: 0.3412 - accuracy: 0.8788 - val_loss: 0.3585 - val_accuracy: 0.8706\n",
            "Epoch 10/30\n",
            "1719/1719 [==============================] - 7s 4ms/step - loss: 0.3320 - accuracy: 0.8817 - val_loss: 0.3431 - val_accuracy: 0.8776\n",
            "Epoch 11/30\n",
            "1719/1719 [==============================] - 6s 4ms/step - loss: 0.3239 - accuracy: 0.8839 - val_loss: 0.3450 - val_accuracy: 0.8782\n",
            "Epoch 12/30\n",
            "1719/1719 [==============================] - 7s 4ms/step - loss: 0.3148 - accuracy: 0.8868 - val_loss: 0.3311 - val_accuracy: 0.8822\n",
            "Epoch 13/30\n",
            "1719/1719 [==============================] - 6s 4ms/step - loss: 0.3078 - accuracy: 0.8898 - val_loss: 0.3264 - val_accuracy: 0.8882\n",
            "Epoch 14/30\n",
            "1719/1719 [==============================] - 6s 4ms/step - loss: 0.3019 - accuracy: 0.8920 - val_loss: 0.3387 - val_accuracy: 0.8800\n",
            "Epoch 15/30\n",
            "1719/1719 [==============================] - 7s 4ms/step - loss: 0.2944 - accuracy: 0.8943 - val_loss: 0.3214 - val_accuracy: 0.8850\n",
            "Epoch 16/30\n",
            "1719/1719 [==============================] - 6s 4ms/step - loss: 0.2888 - accuracy: 0.8968 - val_loss: 0.3096 - val_accuracy: 0.8898\n",
            "Epoch 17/30\n",
            "1719/1719 [==============================] - 7s 4ms/step - loss: 0.2837 - accuracy: 0.8978 - val_loss: 0.3581 - val_accuracy: 0.8724\n",
            "Epoch 18/30\n",
            "1719/1719 [==============================] - 6s 4ms/step - loss: 0.2776 - accuracy: 0.8998 - val_loss: 0.3140 - val_accuracy: 0.8892\n",
            "Epoch 19/30\n",
            "1719/1719 [==============================] - 7s 4ms/step - loss: 0.2725 - accuracy: 0.9022 - val_loss: 0.3105 - val_accuracy: 0.8906\n",
            "Epoch 20/30\n",
            "1719/1719 [==============================] - 7s 4ms/step - loss: 0.2673 - accuracy: 0.9036 - val_loss: 0.3263 - val_accuracy: 0.8828\n",
            "Epoch 21/30\n",
            "1719/1719 [==============================] - 7s 4ms/step - loss: 0.2623 - accuracy: 0.9054 - val_loss: 0.3048 - val_accuracy: 0.8930\n",
            "Epoch 22/30\n",
            "1719/1719 [==============================] - 6s 4ms/step - loss: 0.2574 - accuracy: 0.9076 - val_loss: 0.2963 - val_accuracy: 0.8982\n",
            "Epoch 23/30\n",
            "1719/1719 [==============================] - 6s 4ms/step - loss: 0.2531 - accuracy: 0.9084 - val_loss: 0.2991 - val_accuracy: 0.8926\n",
            "Epoch 24/30\n",
            "1719/1719 [==============================] - 6s 4ms/step - loss: 0.2481 - accuracy: 0.9099 - val_loss: 0.3072 - val_accuracy: 0.8882\n",
            "Epoch 25/30\n",
            "1719/1719 [==============================] - 7s 4ms/step - loss: 0.2441 - accuracy: 0.9125 - val_loss: 0.2974 - val_accuracy: 0.8952\n",
            "Epoch 26/30\n",
            "1719/1719 [==============================] - 6s 4ms/step - loss: 0.2402 - accuracy: 0.9142 - val_loss: 0.3068 - val_accuracy: 0.8890\n",
            "Epoch 27/30\n",
            "1719/1719 [==============================] - 6s 4ms/step - loss: 0.2360 - accuracy: 0.9152 - val_loss: 0.3053 - val_accuracy: 0.8936\n",
            "Epoch 28/30\n",
            "1719/1719 [==============================] - 6s 4ms/step - loss: 0.2325 - accuracy: 0.9163 - val_loss: 0.2988 - val_accuracy: 0.8942\n",
            "Epoch 29/30\n",
            "1719/1719 [==============================] - 7s 4ms/step - loss: 0.2282 - accuracy: 0.9188 - val_loss: 0.3052 - val_accuracy: 0.8904\n",
            "Epoch 30/30\n",
            "1719/1719 [==============================] - 6s 4ms/step - loss: 0.2247 - accuracy: 0.9196 - val_loss: 0.3033 - val_accuracy: 0.8944\n"
          ]
        }
      ],
      "source": [
        "history = model.fit(X_train, y_train, epochs=30,\n",
        "                    validation_data=(X_valid, y_valid))"
      ]
    },
    {
      "cell_type": "code",
      "execution_count": 31,
      "metadata": {
        "id": "7ZsFB62z96no",
        "outputId": "71b6c4e4-3354-4085-b289-96731846a2f6",
        "colab": {
          "base_uri": "https://localhost:8080/"
        }
      },
      "outputs": [
        {
          "output_type": "execute_result",
          "data": {
            "text/plain": [
              "{'epochs': 30, 'steps': 1719, 'verbose': 1}"
            ]
          },
          "metadata": {},
          "execution_count": 31
        }
      ],
      "source": [
        "history.params"
      ]
    },
    {
      "cell_type": "code",
      "execution_count": 32,
      "metadata": {
        "id": "FdaUfmYb96np",
        "outputId": "47c3975d-507b-422c-aab1-e6bba857af1c",
        "colab": {
          "base_uri": "https://localhost:8080/"
        }
      },
      "outputs": [
        {
          "output_type": "stream",
          "name": "stdout",
          "text": [
            "[0, 1, 2, 3, 4, 5, 6, 7, 8, 9, 10, 11, 12, 13, 14, 15, 16, 17, 18, 19, 20, 21, 22, 23, 24, 25, 26, 27, 28, 29]\n"
          ]
        }
      ],
      "source": [
        "print(history.epoch)"
      ]
    },
    {
      "cell_type": "code",
      "execution_count": 33,
      "metadata": {
        "id": "O3tukEej96np",
        "outputId": "82f871e4-c880-49d1-b6cc-a59e6492c699",
        "colab": {
          "base_uri": "https://localhost:8080/"
        }
      },
      "outputs": [
        {
          "output_type": "execute_result",
          "data": {
            "text/plain": [
              "dict_keys(['loss', 'accuracy', 'val_loss', 'val_accuracy'])"
            ]
          },
          "metadata": {},
          "execution_count": 33
        }
      ],
      "source": [
        "history.history.keys()"
      ]
    },
    {
      "cell_type": "code",
      "execution_count": 34,
      "metadata": {
        "id": "CCv_GPMi96np",
        "outputId": "2d84501b-8929-4b70-e6db-caf74ae231b1",
        "colab": {
          "base_uri": "https://localhost:8080/",
          "height": 328
        }
      },
      "outputs": [
        {
          "output_type": "display_data",
          "data": {
            "image/png": "[encoded data removed]",
            "text/plain": [
              "<Figure size 576x360 with 1 Axes>"
            ]
          },
          "metadata": {
            "needs_background": "light"
          }
        }
      ],
      "source": [
        "import pandas as pd\n",
        "\n",
        "pd.DataFrame(history.history).plot(figsize=(8, 5))\n",
        "plt.grid(True)\n",
        "plt.gca().set_ylim(0, 1)\n",
        "plt.show()"
      ]
    },
    {
      "cell_type": "markdown",
      "metadata": {
        "id": "p2WdGqAlC0bm"
      },
      "source": [
        "### Task 4\n",
        " Validate your model using `model.evaluate` on the test set made of `X_test` and `y_test`. "
      ]
    },
    {
      "cell_type": "markdown",
      "metadata": {
        "id": "uW7pnCYYV3gJ"
      },
      "source": [
        "↓↓↓↓↓↓↓↓↓↓↓↓↓↓↓↓↓↓↓↓↓↓↓↓↓↓↓↓↓↓↓ your code goes below"
      ]
    },
    {
      "cell_type": "code",
      "execution_count": 35,
      "metadata": {
        "id": "ZfC_sLA_96nq",
        "outputId": "2d725232-7add-4b7e-97dd-f18d399303e3",
        "colab": {
          "base_uri": "https://localhost:8080/"
        }
      },
      "outputs": [
        {
          "output_type": "stream",
          "name": "stdout",
          "text": [
            "313/313 [==============================] - 1s 3ms/step - loss: 0.3366 - accuracy: 0.8820\n"
          ]
        },
        {
          "output_type": "execute_result",
          "data": {
            "text/plain": [
              "[0.3365592360496521, 0.8820000290870667]"
            ]
          },
          "metadata": {},
          "execution_count": 35
        }
      ],
      "source": [
        "# evaluate model on  test set\n",
        "model.evaluate(X_test, y_test)"
      ]
    },
    {
      "cell_type": "markdown",
      "metadata": {
        "id": "CX9LjxNhV3gJ"
      },
      "source": [
        "↑↑↑↑↑↑↑↑↑↑↑↑↑↑↑↑↑↑↑↑↑↑↑↑↑↑↑↑↑↑↑ your code goes above"
      ]
    },
    {
      "cell_type": "markdown",
      "metadata": {
        "id": "zM8ssoN0FjYS"
      },
      "source": [
        "### Task 5\n",
        " Select the first three samples from the test set and predict their corresponding classes using model.predict_classes . Then print the names/categories of the elements in  question (Eg. \"Pants\", \"trouser\") \n",
        "\n",
        "Hint: With `model.predict(...)` you can get the predictions in a [one-hot-encoded](https://machinelearningmastery.com/why-one-hot-encode-data-in-machine-learning/) format.\n",
        "Use `np.argmax(prediction, axis=-1)` on the one-hot-encoded predictons to get the class numbers."
      ]
    },
    {
      "cell_type": "code",
      "execution_count": 36,
      "metadata": {
        "id": "7C0en5Jk96nq"
      },
      "outputs": [],
      "source": [
        "X_new = X_test[:3]"
      ]
    },
    {
      "cell_type": "markdown",
      "metadata": {
        "id": "B5njfonUV3gJ"
      },
      "source": [
        "↓↓↓↓↓↓↓↓↓↓↓↓↓↓↓↓↓↓↓↓↓↓↓↓↓↓↓↓↓↓↓ your code goes below"
      ]
    },
    {
      "cell_type": "code",
      "execution_count": 37,
      "metadata": {
        "id": "pJcrrbTrV3gJ",
        "outputId": "e853847a-e976-4e27-ce28-4131791cf10d",
        "colab": {
          "base_uri": "https://localhost:8080/"
        }
      },
      "outputs": [
        {
          "output_type": "execute_result",
          "data": {
            "text/plain": [
              "array([[4.0969117e-06, 3.3382591e-07, 6.4682070e-05, 7.8714620e-06,\n",
              "        4.4261983e-06, 1.2424585e-02, 5.8107807e-06, 2.8187918e-02,\n",
              "        6.7799317e-04, 9.5862222e-01],\n",
              "       [9.2901118e-06, 2.3218236e-08, 9.7878897e-01, 1.7935674e-08,\n",
              "        2.0860050e-02, 4.4337737e-12, 3.4161232e-04, 9.6620021e-12,\n",
              "        5.4931677e-09, 2.0347181e-11],\n",
              "       [2.2681834e-06, 9.9999726e-01, 1.3844236e-08, 3.3984014e-07,\n",
              "        1.3639543e-07, 1.1400230e-13, 4.7361354e-10, 3.0623098e-13,\n",
              "        8.8935304e-09, 1.3714376e-12]], dtype=float32)"
            ]
          },
          "metadata": {},
          "execution_count": 37
        }
      ],
      "source": [
        "y_pred = model.predict(X_new)\n",
        "y_pred"
      ]
    },
    {
      "cell_type": "code",
      "source": [
        "y_pred = np.argmax(y_pred, axis=-1)\n",
        "y_pred"
      ],
      "metadata": {
        "id": "tcuy7Ya5ZWdh",
        "outputId": "17e358a8-09d1-403d-a4d6-0c3c7d1b7b85",
        "colab": {
          "base_uri": "https://localhost:8080/"
        }
      },
      "execution_count": 38,
      "outputs": [
        {
          "output_type": "execute_result",
          "data": {
            "text/plain": [
              "array([9, 2, 1])"
            ]
          },
          "metadata": {},
          "execution_count": 38
        }
      ]
    },
    {
      "cell_type": "markdown",
      "metadata": {
        "id": "E_E2GMjPV3gJ"
      },
      "source": [
        "↑↑↑↑↑↑↑↑↑↑↑↑↑↑↑↑↑↑↑↑↑↑↑↑↑↑↑↑↑↑↑ your code goes above"
      ]
    },
    {
      "cell_type": "code",
      "source": [
        "[class_names[y_pred[i]] for i in range(3)]"
      ],
      "metadata": {
        "id": "Dxs5kPxHZ3TA",
        "outputId": "eaaca54e-c4c7-426d-dad8-d49734abcf45",
        "colab": {
          "base_uri": "https://localhost:8080/"
        }
      },
      "execution_count": 39,
      "outputs": [
        {
          "output_type": "execute_result",
          "data": {
            "text/plain": [
              "['Ankle boot', 'Pullover', 'Trouser']"
            ]
          },
          "metadata": {},
          "execution_count": 39
        }
      ]
    },
    {
      "cell_type": "code",
      "execution_count": 40,
      "metadata": {
        "id": "ED-XEVIgV3gK",
        "outputId": "419f7d3a-2a25-4985-dd91-2efafc01f1e1",
        "colab": {
          "base_uri": "https://localhost:8080/"
        }
      },
      "outputs": [
        {
          "output_type": "execute_result",
          "data": {
            "text/plain": [
              "array([9, 2, 1], dtype=uint8)"
            ]
          },
          "metadata": {},
          "execution_count": 40
        }
      ],
      "source": [
        "y_test[0:3]"
      ]
    },
    {
      "cell_type": "code",
      "execution_count": 41,
      "metadata": {
        "id": "MloueY3o96nr",
        "outputId": "3b277fa7-c089-4a56-f12c-47d7d51c63fb",
        "colab": {
          "base_uri": "https://localhost:8080/",
          "height": 165
        }
      },
      "outputs": [
        {
          "output_type": "display_data",
          "data": {
            "image/png": "[encoded data removed]",
            "text/plain": [
              "<Figure size 518.4x172.8 with 3 Axes>"
            ]
          },
          "metadata": {
            "needs_background": "light"
          }
        }
      ],
      "source": [
        "plt.figure(figsize=(7.2, 2.4))\n",
        "for index, image in enumerate(X_new):\n",
        "    plt.subplot(1, 3, index + 1)\n",
        "    plt.imshow(image, cmap=\"binary\", interpolation=\"nearest\")\n",
        "    plt.axis('off')\n",
        "    plt.title(class_names[y_test[index]], fontsize=12)\n",
        "plt.subplots_adjust(wspace=0.2, hspace=0.5)\n",
        "plt.show()"
      ]
    },
    {
      "cell_type": "markdown",
      "metadata": {
        "id": "wdQPEnaa96nr"
      },
      "source": [
        "# Regression MLP"
      ]
    },
    {
      "cell_type": "markdown",
      "metadata": {
        "id": "qMxzRNLS96ns"
      },
      "source": [
        "Let's load, split and scale the California housing dataset."
      ]
    },
    {
      "cell_type": "code",
      "execution_count": 42,
      "metadata": {
        "id": "ZJ3bFpfU96ns"
      },
      "outputs": [],
      "source": [
        "from sklearn.datasets import fetch_california_housing\n",
        "from sklearn.model_selection import train_test_split\n",
        "from sklearn.preprocessing import StandardScaler\n",
        "\n",
        "housing = fetch_california_housing()\n",
        "\n",
        "X_train_full, X_test, y_train_full, y_test = train_test_split(housing.data, housing.target, random_state=42)\n",
        "X_train, X_valid, y_train, y_valid = train_test_split(X_train_full, y_train_full, random_state=42)\n"
      ]
    },
    {
      "cell_type": "markdown",
      "metadata": {
        "id": "wJiLPiB5Gzht"
      },
      "source": [
        "### Task 6\n",
        " Scale your training, validation and test feature matrices using scikitlearn's [StandardScaler](https://scikit-learn.org/stable/modules/generated/sklearn.preprocessing.StandardScaler.html)."
      ]
    },
    {
      "cell_type": "markdown",
      "metadata": {
        "id": "o4v2jfPCV3gL"
      },
      "source": [
        "↓↓↓↓↓↓↓↓↓↓↓↓↓↓↓↓↓↓↓↓↓↓↓↓↓↓↓↓↓↓↓ your code goes below"
      ]
    },
    {
      "cell_type": "code",
      "execution_count": 43,
      "metadata": {
        "id": "O0ehUJYh7Dcw"
      },
      "outputs": [],
      "source": [
        "scaler = StandardScaler()\n",
        "X_train = scaler.fit_transform(X_train)\n",
        "X_valid = scaler.fit_transform(X_valid)\n",
        "X_test = scaler.fit_transform(X_test)"
      ]
    },
    {
      "cell_type": "code",
      "source": [
        "X_train.shape, y_train.shape"
      ],
      "metadata": {
        "id": "iYebvAi0cjhV",
        "outputId": "b6c5e09b-2bd9-45d4-e699-9e093b1dc8c8",
        "colab": {
          "base_uri": "https://localhost:8080/"
        }
      },
      "execution_count": 44,
      "outputs": [
        {
          "output_type": "execute_result",
          "data": {
            "text/plain": [
              "((11610, 8), (11610,))"
            ]
          },
          "metadata": {},
          "execution_count": 44
        }
      ]
    },
    {
      "cell_type": "markdown",
      "metadata": {
        "id": "8ddcsG53V3gL"
      },
      "source": [
        "↑↑↑↑↑↑↑↑↑↑↑↑↑↑↑↑↑↑↑↑↑↑↑↑↑↑↑↑↑↑↑ your code goes above"
      ]
    },
    {
      "cell_type": "code",
      "execution_count": 45,
      "metadata": {
        "id": "tv60cUzR96ns"
      },
      "outputs": [],
      "source": [
        "np.random.seed(42)\n",
        "tf.random.set_seed(42)"
      ]
    },
    {
      "cell_type": "markdown",
      "metadata": {
        "id": "1NgYV0XyIlfr"
      },
      "source": [
        "### Task 7\n",
        " Build a Neural Network with one hidden layer with 30 neurons. The output layer has one neuron, which is the regression value. Compile, fit then train this network while choosing the suitable loss function and the SGD optimizer. \n",
        "\n",
        "**N.B:**  This task is similar to the neural network above, except that we now do regression not classification. "
      ]
    },
    {
      "cell_type": "markdown",
      "metadata": {
        "id": "QOfA-tLAV3gL"
      },
      "source": [
        "↓↓↓↓↓↓↓↓↓↓↓↓↓↓↓↓↓↓↓↓↓↓↓↓↓↓↓↓↓↓↓ your code goes below"
      ]
    },
    {
      "cell_type": "code",
      "execution_count": 46,
      "metadata": {
        "id": "wj5v_bRU96ns"
      },
      "outputs": [],
      "source": [
        "model = keras.models.Sequential([\n",
        "    keras.layers.Dense(30,input_shape=(8,), activation=\"relu\"),\n",
        "    keras.layers.Dense(1)\n",
        "])\n",
        "model.compile(loss=\"mean_squared_error\",\n",
        "              optimizer=\"sgd\")\n",
        "#history = \n"
      ]
    },
    {
      "cell_type": "code",
      "source": [
        "history = model.fit(X_train, y_train, epochs=30,\n",
        "                    validation_data=(X_valid, y_valid))"
      ],
      "metadata": {
        "id": "_PWVQYv2cZLP",
        "outputId": "77ac7f17-95ed-4c72-82f8-c2f19b43a0c9",
        "colab": {
          "base_uri": "https://localhost:8080/"
        }
      },
      "execution_count": 47,
      "outputs": [
        {
          "output_type": "stream",
          "name": "stdout",
          "text": [
            "Epoch 1/30\n",
            "363/363 [==============================] - 2s 4ms/step - loss: 0.7294 - val_loss: 0.6661\n",
            "Epoch 2/30\n",
            "363/363 [==============================] - 1s 4ms/step - loss: 0.6180 - val_loss: 0.5543\n",
            "Epoch 3/30\n",
            "363/363 [==============================] - 1s 4ms/step - loss: 0.5292 - val_loss: 0.4562\n",
            "Epoch 4/30\n",
            "363/363 [==============================] - 1s 4ms/step - loss: 0.3957 - val_loss: 0.4465\n",
            "Epoch 5/30\n",
            "363/363 [==============================] - 1s 4ms/step - loss: 0.3849 - val_loss: 0.4367\n",
            "Epoch 6/30\n",
            "363/363 [==============================] - 1s 4ms/step - loss: 0.3776 - val_loss: 0.4592\n",
            "Epoch 7/30\n",
            "363/363 [==============================] - 1s 4ms/step - loss: 0.3765 - val_loss: 0.4320\n",
            "Epoch 8/30\n",
            "363/363 [==============================] - 1s 4ms/step - loss: 0.3689 - val_loss: 0.4363\n",
            "Epoch 9/30\n",
            "363/363 [==============================] - 2s 5ms/step - loss: 0.3649 - val_loss: 0.4510\n",
            "Epoch 10/30\n",
            "363/363 [==============================] - 3s 8ms/step - loss: 0.3633 - val_loss: 0.4206\n",
            "Epoch 11/30\n",
            "363/363 [==============================] - 2s 7ms/step - loss: 0.3598 - val_loss: 0.4236\n",
            "Epoch 12/30\n",
            "363/363 [==============================] - 3s 7ms/step - loss: 0.3585 - val_loss: 0.4179\n",
            "Epoch 13/30\n",
            "363/363 [==============================] - 3s 7ms/step - loss: 0.3549 - val_loss: 0.4182\n",
            "Epoch 14/30\n",
            "363/363 [==============================] - 2s 6ms/step - loss: 0.3520 - val_loss: 0.4176\n",
            "Epoch 15/30\n",
            "363/363 [==============================] - 3s 8ms/step - loss: 0.3546 - val_loss: 0.4160\n",
            "Epoch 16/30\n",
            "363/363 [==============================] - 2s 5ms/step - loss: 0.3494 - val_loss: 0.4132\n",
            "Epoch 17/30\n",
            "363/363 [==============================] - 1s 4ms/step - loss: 0.3476 - val_loss: 0.4154\n",
            "Epoch 18/30\n",
            "363/363 [==============================] - 1s 4ms/step - loss: 0.3467 - val_loss: 0.4153\n",
            "Epoch 19/30\n",
            "363/363 [==============================] - 1s 4ms/step - loss: 0.3551 - val_loss: 0.4163\n",
            "Epoch 20/30\n",
            "363/363 [==============================] - 1s 4ms/step - loss: 0.3451 - val_loss: 0.4096\n",
            "Epoch 21/30\n",
            "363/363 [==============================] - 1s 4ms/step - loss: 0.3434 - val_loss: 0.4126\n",
            "Epoch 22/30\n",
            "363/363 [==============================] - 1s 4ms/step - loss: 0.3429 - val_loss: 0.4130\n",
            "Epoch 23/30\n",
            "363/363 [==============================] - 1s 4ms/step - loss: 0.3411 - val_loss: 0.4116\n",
            "Epoch 24/30\n",
            "363/363 [==============================] - 1s 4ms/step - loss: 0.3402 - val_loss: 0.4115\n",
            "Epoch 25/30\n",
            "363/363 [==============================] - 1s 4ms/step - loss: 0.3409 - val_loss: 0.4179\n",
            "Epoch 26/30\n",
            "363/363 [==============================] - 1s 4ms/step - loss: 0.3379 - val_loss: 0.4066\n",
            "Epoch 27/30\n",
            "363/363 [==============================] - 1s 4ms/step - loss: 0.3420 - val_loss: 0.4041\n",
            "Epoch 28/30\n",
            "363/363 [==============================] - 1s 4ms/step - loss: 0.3359 - val_loss: 0.4037\n",
            "Epoch 29/30\n",
            "363/363 [==============================] - 1s 4ms/step - loss: 0.3391 - val_loss: 0.3987\n",
            "Epoch 30/30\n",
            "363/363 [==============================] - 1s 4ms/step - loss: 0.3339 - val_loss: 0.4051\n"
          ]
        }
      ]
    },
    {
      "cell_type": "markdown",
      "metadata": {
        "id": "jbOYc2__V3gM"
      },
      "source": [
        "↑↑↑↑↑↑↑↑↑↑↑↑↑↑↑↑↑↑↑↑↑↑↑↑↑↑↑↑↑↑↑ your code goes above"
      ]
    },
    {
      "cell_type": "code",
      "execution_count": 48,
      "metadata": {
        "id": "hlxuJOFkV3gM",
        "outputId": "a120065d-e7cb-45cd-a077-0bc20d090fda",
        "colab": {
          "base_uri": "https://localhost:8080/",
          "height": 328
        }
      },
      "outputs": [
        {
          "output_type": "display_data",
          "data": {
            "image/png": "[encoded data removed]",
            "text/plain": [
              "<Figure size 576x360 with 1 Axes>"
            ]
          },
          "metadata": {
            "needs_background": "light"
          }
        }
      ],
      "source": [
        "pd.DataFrame(history.history).plot(figsize=(8, 5))\n",
        "plt.grid(True)\n",
        "plt.gca().set_ylim(0, 1)\n",
        "plt.show()"
      ]
    },
    {
      "cell_type": "markdown",
      "metadata": {
        "id": "bSADjQQDJLgh"
      },
      "source": [
        "### Task 8\n",
        " Validate your model using model.evaluate on the test set. \n",
        "Also predict one element of the test set of your choice (`X_test[42]` for example) and compare to\n",
        "the real value."
      ]
    },
    {
      "cell_type": "markdown",
      "metadata": {
        "id": "Y_WyRp5YV3gM"
      },
      "source": [
        "↓↓↓↓↓↓↓↓↓↓↓↓↓↓↓↓↓↓↓↓↓↓↓↓↓↓↓↓↓↓↓ your code goes below"
      ]
    },
    {
      "cell_type": "code",
      "execution_count": 49,
      "metadata": {
        "id": "N3IL0WlYJCx6",
        "outputId": "29f49bca-4430-4ab5-95c6-c6bca4962a47",
        "colab": {
          "base_uri": "https://localhost:8080/"
        }
      },
      "outputs": [
        {
          "output_type": "stream",
          "name": "stdout",
          "text": [
            "162/162 [==============================] - 0s 2ms/step - loss: 0.3664\n"
          ]
        }
      ],
      "source": [
        "mse_test = model.evaluate(X_test, y_test)"
      ]
    },
    {
      "cell_type": "code",
      "source": [
        "X_test[42:43]"
      ],
      "metadata": {
        "id": "Mt3IJ_JmelBV",
        "outputId": "2666b659-955f-4069-cb60-086841c30a16",
        "colab": {
          "base_uri": "https://localhost:8080/"
        }
      },
      "execution_count": 50,
      "outputs": [
        {
          "output_type": "execute_result",
          "data": {
            "text/plain": [
              "array([[-0.83691894, -0.3014276 , -0.54755123, -0.23625174, -1.01451854,\n",
              "        -0.06403472,  1.02399559, -0.65914829]])"
            ]
          },
          "metadata": {},
          "execution_count": 50
        }
      ]
    },
    {
      "cell_type": "code",
      "source": [
        ""
      ],
      "metadata": {
        "id": "EPq2JMOxek_D"
      },
      "execution_count": 50,
      "outputs": []
    },
    {
      "cell_type": "code",
      "source": [
        "y_pred42 = model.predict(X_test[42:43])\n",
        "y_pred42"
      ],
      "metadata": {
        "id": "UIkcIRaqeffT",
        "outputId": "c1391f59-faab-4148-8786-4eb3e378970c",
        "colab": {
          "base_uri": "https://localhost:8080/"
        }
      },
      "execution_count": 51,
      "outputs": [
        {
          "output_type": "execute_result",
          "data": {
            "text/plain": [
              "array([[0.87764376]], dtype=float32)"
            ]
          },
          "metadata": {},
          "execution_count": 51
        }
      ]
    },
    {
      "cell_type": "code",
      "source": [
        "y_test[42:43]"
      ],
      "metadata": {
        "id": "EMw3c9QvefZb",
        "outputId": "7153ac1c-622b-4877-8210-2a71b884ec96",
        "colab": {
          "base_uri": "https://localhost:8080/"
        }
      },
      "execution_count": 52,
      "outputs": [
        {
          "output_type": "execute_result",
          "data": {
            "text/plain": [
              "array([0.713])"
            ]
          },
          "metadata": {},
          "execution_count": 52
        }
      ]
    },
    {
      "cell_type": "markdown",
      "metadata": {
        "id": "8u3RPypVV3gN"
      },
      "source": [
        "↑↑↑↑↑↑↑↑↑↑↑↑↑↑↑↑↑↑↑↑↑↑↑↑↑↑↑↑↑↑↑ your code goes above"
      ]
    },
    {
      "cell_type": "markdown",
      "metadata": {
        "id": "b_YAL3g-96nx"
      },
      "source": [
        "# Saving the model weights for future use"
      ]
    },
    {
      "cell_type": "code",
      "execution_count": 53,
      "metadata": {
        "id": "CIMTsRwT96ny",
        "outputId": "6f4b9d6e-8052-4e13-ad0e-8671a9c25f53",
        "colab": {
          "base_uri": "https://localhost:8080/"
        }
      },
      "outputs": [
        {
          "output_type": "stream",
          "name": "stdout",
          "text": [
            "INFO:tensorflow:Assets written to: my_keras_model/assets\n"
          ]
        }
      ],
      "source": [
        "model.save(\"my_keras_model\")"
      ]
    },
    {
      "cell_type": "code",
      "execution_count": 54,
      "metadata": {
        "id": "BrgCYxY596ny"
      },
      "outputs": [],
      "source": [
        "model_reloaded = keras.models.load_model(\"my_keras_model\")"
      ]
    },
    {
      "cell_type": "code",
      "execution_count": 55,
      "metadata": {
        "id": "XeUU8hqO96ny",
        "outputId": "7b74af3a-6da0-48f1-b1fe-34ade26fae78",
        "colab": {
          "base_uri": "https://localhost:8080/"
        }
      },
      "outputs": [
        {
          "output_type": "execute_result",
          "data": {
            "text/plain": [
              "array([[0.87764376]], dtype=float32)"
            ]
          },
          "metadata": {},
          "execution_count": 55
        }
      ],
      "source": [
        "model_reloaded.predict(X_test[42:43])"
      ]
    },
    {
      "cell_type": "code",
      "execution_count": 56,
      "metadata": {
        "id": "JTn29YSI96ny"
      },
      "outputs": [],
      "source": [
        "model.save_weights(\"my_keras_weights.h5\")"
      ]
    },
    {
      "cell_type": "code",
      "execution_count": 57,
      "metadata": {
        "id": "4Ebtp4OJ96nz"
      },
      "outputs": [],
      "source": [
        "model.load_weights(\"my_keras_weights.h5\")"
      ]
    },
    {
      "cell_type": "markdown",
      "metadata": {
        "id": "tPsS41wRV3gO"
      },
      "source": [
        "## Looking at the saved weights"
      ]
    },
    {
      "cell_type": "code",
      "execution_count": 58,
      "metadata": {
        "id": "fxL-GFURV3gO"
      },
      "outputs": [],
      "source": [
        "import h5py"
      ]
    },
    {
      "cell_type": "code",
      "execution_count": 59,
      "metadata": {
        "id": "DP0VbtvgV3gO"
      },
      "outputs": [],
      "source": [
        "f = h5py.File(\"my_keras_weights.h5\")"
      ]
    },
    {
      "cell_type": "code",
      "execution_count": 60,
      "metadata": {
        "id": "VDdZY9eiV3gO",
        "outputId": "73dde8bb-7e9c-428e-988f-e80053b03f6b",
        "colab": {
          "base_uri": "https://localhost:8080/"
        }
      },
      "outputs": [
        {
          "output_type": "execute_result",
          "data": {
            "text/plain": [
              "['dense_3', 'dense_4', 'top_level_model_weights']"
            ]
          },
          "metadata": {},
          "execution_count": 60
        }
      ],
      "source": [
        "list(f.keys())"
      ]
    },
    {
      "cell_type": "code",
      "execution_count": 61,
      "metadata": {
        "id": "wbqQ9JVDV3gP",
        "outputId": "de3f4c3e-4839-4dd5-a241-f032c0fe3bb3",
        "colab": {
          "base_uri": "https://localhost:8080/"
        }
      },
      "outputs": [
        {
          "output_type": "stream",
          "name": "stdout",
          "text": [
            "bias:0\n",
            "kernel:0\n"
          ]
        }
      ],
      "source": [
        "for name in f[\"dense_3/dense_3\"]:\n",
        "    print(name)"
      ]
    },
    {
      "cell_type": "code",
      "execution_count": 62,
      "metadata": {
        "id": "JJJ1IwFRV3gP",
        "outputId": "a0bfb3fb-0d8c-4173-c921-a6e91c70f0ab",
        "colab": {
          "base_uri": "https://localhost:8080/"
        }
      },
      "outputs": [
        {
          "output_type": "execute_result",
          "data": {
            "text/plain": [
              "<KeysViewHDF5 ['bias:0', 'kernel:0']>"
            ]
          },
          "metadata": {},
          "execution_count": 62
        }
      ],
      "source": [
        "f[\"dense_3\"][\"dense_3\"].keys()"
      ]
    },
    {
      "cell_type": "code",
      "execution_count": 63,
      "metadata": {
        "id": "fpWUp6KQV3gP",
        "outputId": "93cf880c-3559-4ad8-9173-dcc6fd2a5b81",
        "colab": {
          "base_uri": "https://localhost:8080/"
        }
      },
      "outputs": [
        {
          "output_type": "execute_result",
          "data": {
            "text/plain": [
              "array([-0.07907026,  0.07029302,  0.12168379, -0.09764311,  0.18652134,\n",
              "        0.3108661 , -0.08275397,  0.2172773 , -0.23631154,  0.00530348,\n",
              "        0.18486293, -0.21206462, -0.22475968,  0.19883397,  0.13286999,\n",
              "        0.34424573, -0.45974582, -0.23542954, -0.07854986, -0.02930853,\n",
              "       -0.20728908, -0.1002096 ,  0.03234131, -0.06843101, -0.7842876 ,\n",
              "       -0.02462371, -0.05997216,  0.21842504,  0.11226249,  0.28456393],\n",
              "      dtype=float32)"
            ]
          },
          "metadata": {},
          "execution_count": 63
        }
      ],
      "source": [
        "np.array(f[\"dense_3\"][\"dense_3\"][\"bias:0\"])"
      ]
    },
    {
      "cell_type": "code",
      "execution_count": 64,
      "metadata": {
        "id": "xMDp6OH2V3gP",
        "outputId": "3f6e7401-f047-4d81-b4af-7fba72567f18",
        "colab": {
          "base_uri": "https://localhost:8080/"
        }
      },
      "outputs": [
        {
          "output_type": "execute_result",
          "data": {
            "text/plain": [
              "array([[ 0.24268028,  0.0493144 , -0.10597735, -0.05731265, -0.32244357,\n",
              "         0.09024197,  0.24950753,  0.45414707, -0.16566539, -0.14040415,\n",
              "        -0.2187175 ,  0.27545187, -0.3092874 ,  0.13461025,  0.04828446,\n",
              "         0.2810436 , -0.25909352, -0.08688655,  0.171125  , -0.19646513,\n",
              "         0.29779378,  0.01079243, -0.36089522,  0.22755992,  0.45718983,\n",
              "        -0.08895491,  0.03384822, -0.05730889,  0.38191253,  0.04836524],\n",
              "       [ 0.28134587, -0.10870951,  0.27919388,  0.03293   ,  0.04221602,\n",
              "        -0.3098556 ,  0.2741941 ,  0.20333092, -0.19928746,  0.08595228,\n",
              "        -0.31917924,  0.19748428,  0.2733796 , -0.24948688,  0.1015154 ,\n",
              "         0.02309467,  0.04111999, -0.08548903,  0.17489558, -0.07794131,\n",
              "         0.10634378,  0.19055718,  0.46056935,  0.08099544,  0.10301451,\n",
              "         0.2627974 ,  0.0784628 , -0.11996268,  0.15028906,  0.02624194],\n",
              "       [-0.23568694, -0.1473096 ,  0.06386206,  0.25915542,  0.01161491,\n",
              "        -0.30494204, -0.49364173,  0.16004683,  0.12010313,  0.19993274,\n",
              "        -0.13784629, -0.01814765,  0.06640241, -0.29067457,  0.02577609,\n",
              "         0.45843107,  0.24102657,  0.01483506,  0.05145879,  0.23348284,\n",
              "        -0.41046983, -0.11904772,  0.22476128, -0.19183162, -0.3910854 ,\n",
              "        -0.23238973, -0.4816409 ,  0.340912  ,  0.2871333 , -0.0352617 ],\n",
              "       [-0.29154631,  0.04737199, -0.013659  , -0.30527917, -0.27139702,\n",
              "         0.1379294 ,  0.36706576, -0.1470412 , -0.505342  , -0.01764393,\n",
              "        -0.06374338,  0.10314002,  0.16625386,  0.16706339, -0.22632726,\n",
              "        -0.02556041,  0.115083  , -0.31481352,  0.3966036 ,  0.2685826 ,\n",
              "         0.02630707,  0.05334658, -0.41363174,  0.08204103,  0.1098632 ,\n",
              "         0.1849746 ,  0.26708964, -0.0213797 ,  0.08700041,  0.02039279],\n",
              "       [-0.25208932, -0.18144162, -0.21957031,  0.00144864,  0.09577751,\n",
              "        -0.02737681,  0.29309306,  0.00403976,  0.3031493 , -0.33891436,\n",
              "        -0.29393932,  0.08317054, -0.06834152,  0.15536098,  0.04724066,\n",
              "        -0.09471399,  0.07401487, -0.05909951,  0.26347363,  0.1983373 ,\n",
              "         0.19704975,  0.04298029, -0.17375375, -0.01667825, -0.01304005,\n",
              "         0.0534226 , -0.04217089,  0.16468044,  0.28648037,  0.07341693],\n",
              "       [-0.07407949, -0.4610816 ,  0.06458724, -0.5903527 , -0.2013792 ,\n",
              "        -0.47436884, -0.5245747 , -0.06179698, -0.26435897, -0.18127085,\n",
              "        -0.2830959 , -0.74860746, -0.12049577, -0.01032509, -0.14077736,\n",
              "        -0.3660285 , -0.21495134, -0.10999442, -0.30572096, -0.13672157,\n",
              "        -0.28398234, -0.8261123 , -0.10733551, -0.6003092 , -0.3589341 ,\n",
              "        -0.12329795, -0.24492562, -0.38425794, -0.5596923 ,  0.02637412],\n",
              "       [ 0.0146809 , -0.36950687, -0.28448755, -0.09183004,  0.14608882,\n",
              "        -0.04062542, -0.50125307, -0.6235249 , -0.04289247, -0.06483156,\n",
              "         0.40872753, -0.34619233, -0.29028618, -0.23385002, -0.48662156,\n",
              "        -0.27466995, -0.27688345,  0.44284815,  0.1459245 , -0.14207137,\n",
              "         0.38816604,  0.19221738,  0.25281304, -0.11261381,  0.02561603,\n",
              "         0.26547363, -0.38329646, -0.05088077,  0.04950305, -0.60280526],\n",
              "       [ 0.44251224, -0.31728396, -0.21803766,  0.12704572, -0.4050483 ,\n",
              "        -0.08376028, -0.44953156, -0.5198183 ,  0.55297756,  0.26013067,\n",
              "        -0.02379288, -0.28632292,  0.1438986 , -0.34468576,  0.42142257,\n",
              "        -0.3718394 ,  0.40811157, -0.5372243 , -0.23502804, -0.30400395,\n",
              "         0.08905873,  0.24380568,  0.29689485, -0.17298754, -0.00884007,\n",
              "         0.26981157, -0.38116398,  0.05876326, -0.03471702, -0.45891654]],\n",
              "      dtype=float32)"
            ]
          },
          "metadata": {},
          "execution_count": 64
        }
      ],
      "source": [
        "np.array(f[\"dense_3\"][\"dense_3\"][\"kernel:0\"])"
      ]
    },
    {
      "cell_type": "code",
      "execution_count": 65,
      "metadata": {
        "id": "bvRf0yWyV3gP",
        "outputId": "5dd30fe5-43f6-4d13-91ae-cfa6e6828289",
        "colab": {
          "base_uri": "https://localhost:8080/"
        }
      },
      "outputs": [
        {
          "output_type": "execute_result",
          "data": {
            "text/plain": [
              "(8, 30)"
            ]
          },
          "metadata": {},
          "execution_count": 65
        }
      ],
      "source": [
        "f[\"dense_3\"][\"dense_3\"][\"kernel:0\"].shape"
      ]
    },
    {
      "cell_type": "code",
      "execution_count": 66,
      "metadata": {
        "id": "50-DNbCCV3gQ",
        "outputId": "f58d93d4-24c0-4e2c-8c1d-fd5bd8e30850",
        "colab": {
          "base_uri": "https://localhost:8080/",
          "height": 312
        }
      },
      "outputs": [
        {
          "output_type": "execute_result",
          "data": {
            "image/png": "[encoded data removed]",
            "text/plain": [
              "<IPython.core.display.Image object>"
            ]
          },
          "metadata": {},
          "execution_count": 66
        }
      ],
      "source": [
        "keras.utils.plot_model(model, show_shapes=True)"
      ]
    },
    {
      "cell_type": "markdown",
      "metadata": {
        "id": "jYmB_uy7V3gQ"
      },
      "source": [
        "One layer is actually nothing but performing a matrix multiplication, adding the bias and putting it through the activation function.\n",
        "You can see this by looking at the shape of `dense_3`."
      ]
    },
    {
      "cell_type": "markdown",
      "metadata": {
        "id": "LKnEx4R2V3gQ"
      },
      "source": [
        "### Task 9\n",
        " For `X_train[0]` perform the forward pass yourself using matrix multiplications.\n",
        "Remember to include the biases.\n",
        "Check with the prediction of the model that you get exactly the same!\n",
        "\n",
        "Hints:\n",
        "- use `np.dot(x,y)` for matrix multiplication\n",
        "- for the first layer it would look like this:\n",
        "    * matrix mult: `X_new` dot `l1`\n",
        "    * add bias `b1`\n",
        "    * followed by `relu(...)`"
      ]
    },
    {
      "cell_type": "code",
      "execution_count": 67,
      "metadata": {
        "id": "hNeSLbJrV3gQ"
      },
      "outputs": [],
      "source": [
        "b1 = np.array(f[\"dense_3\"][\"dense_3\"][\"bias:0\"])\n",
        "l1 = np.array(f[\"dense_3\"][\"dense_3\"][\"kernel:0\"])\n",
        "b2 = np.array(f[\"dense_4\"][\"dense_4\"][\"bias:0\"])\n",
        "l2 = np.array(f[\"dense_4\"][\"dense_4\"][\"kernel:0\"])"
      ]
    },
    {
      "cell_type": "code",
      "execution_count": 68,
      "metadata": {
        "id": "yo4zpG8kV3gQ"
      },
      "outputs": [],
      "source": [
        "X_new = X_train[0]"
      ]
    },
    {
      "cell_type": "code",
      "execution_count": 69,
      "metadata": {
        "id": "cVYk6a8MV3gQ",
        "outputId": "dc84839f-4f38-400b-86d0-0e7d44947acd",
        "colab": {
          "base_uri": "https://localhost:8080/"
        }
      },
      "outputs": [
        {
          "output_type": "execute_result",
          "data": {
            "text/plain": [
              "(8,)"
            ]
          },
          "metadata": {},
          "execution_count": 69
        }
      ],
      "source": [
        "X_new.shape"
      ]
    },
    {
      "cell_type": "code",
      "execution_count": 70,
      "metadata": {
        "id": "-b1WVXYcV3gQ",
        "outputId": "8b154585-2760-4585-dd20-b0991dd30eb8",
        "colab": {
          "base_uri": "https://localhost:8080/"
        }
      },
      "outputs": [
        {
          "output_type": "execute_result",
          "data": {
            "text/plain": [
              "(8, 30)"
            ]
          },
          "metadata": {},
          "execution_count": 70
        }
      ],
      "source": [
        "l1.shape"
      ]
    },
    {
      "cell_type": "code",
      "execution_count": 71,
      "metadata": {
        "id": "yythGWr0V3gR",
        "outputId": "934aa321-30da-4d51-f63e-86005e6775d7",
        "colab": {
          "base_uri": "https://localhost:8080/"
        }
      },
      "outputs": [
        {
          "output_type": "execute_result",
          "data": {
            "text/plain": [
              "(30,)"
            ]
          },
          "metadata": {},
          "execution_count": 71
        }
      ],
      "source": [
        "b1.shape"
      ]
    },
    {
      "cell_type": "code",
      "execution_count": 72,
      "metadata": {
        "id": "520qm_AYV3gR"
      },
      "outputs": [],
      "source": [
        "def relu(z):\n",
        "    return np.maximum(0, z)"
      ]
    },
    {
      "cell_type": "code",
      "execution_count": 73,
      "metadata": {
        "id": "msjkOY-4V3gR",
        "outputId": "5a9b253b-cb20-45f8-ec24-8a0805afc97a",
        "colab": {
          "base_uri": "https://localhost:8080/"
        }
      },
      "outputs": [
        {
          "output_type": "execute_result",
          "data": {
            "text/plain": [
              "array([[2.7173529]], dtype=float32)"
            ]
          },
          "metadata": {},
          "execution_count": 73
        }
      ],
      "source": [
        "model.predict(X_train[0:1])   # reproduce this!"
      ]
    },
    {
      "cell_type": "markdown",
      "metadata": {
        "id": "ogY0OvYzV3gR"
      },
      "source": [
        "↓↓↓↓↓↓↓↓↓↓↓↓↓↓↓↓↓↓↓↓↓↓↓↓↓↓↓↓↓↓↓ your code goes below"
      ]
    },
    {
      "cell_type": "code",
      "source": [
        "A = relu(np.dot(X_new,l1)+b1)\n",
        "relu(np.dot(A,l2)+b2)"
      ],
      "metadata": {
        "colab": {
          "base_uri": "https://localhost:8080/"
        },
        "id": "dBE6z9yaQ9pX",
        "outputId": "54899209-adfd-4977-bfe6-432ec468fbb3"
      },
      "execution_count": 74,
      "outputs": [
        {
          "output_type": "execute_result",
          "data": {
            "text/plain": [
              "array([2.7173527])"
            ]
          },
          "metadata": {},
          "execution_count": 74
        }
      ]
    },
    {
      "cell_type": "markdown",
      "metadata": {
        "id": "ZAlOgtBuV3gR"
      },
      "source": [
        "↑↑↑↑↑↑↑↑↑↑↑↑↑↑↑↑↑↑↑↑↑↑↑↑↑↑↑↑↑↑↑ your code goes above"
      ]
    },
    {
      "cell_type": "markdown",
      "metadata": {
        "id": "6EFNcwqg96n9"
      },
      "source": [
        "# Optional task"
      ]
    },
    {
      "cell_type": "markdown",
      "metadata": {
        "id": "8cO1eZvL96n-"
      },
      "source": [
        "**Exercise (bonus task, +3 points):**   \n",
        "Train a deep MLP on the MNIST dataset (you can load it using `keras.datasets.mnist.load_data()`. See if you can get over 98% precision.\n",
        "\n",
        " You can try searching for the optimal learning rate by using the approach presented in this chapter (i.e., by growing the learning rate exponentially, plotting the loss, and finding the point where the loss shoots up). Try adding all the bells and whistles—save checkpoints, use early stopping, and plot learning curves using TensorBoard.\n",
        " Feel free to use other methods."
      ]
    },
    {
      "cell_type": "markdown",
      "metadata": {
        "id": "gRSB5E6q96n-"
      },
      "source": [
        "Let's load the dataset:"
      ]
    },
    {
      "cell_type": "code",
      "execution_count": 75,
      "metadata": {
        "id": "QZxFNmxd96n-",
        "colab": {
          "base_uri": "https://localhost:8080/"
        },
        "outputId": "6599ae68-c440-4281-d0aa-cd59ab1c4d16"
      },
      "outputs": [
        {
          "output_type": "stream",
          "name": "stdout",
          "text": [
            "Downloading data from https://storage.googleapis.com/tensorflow/tf-keras-datasets/mnist.npz\n",
            "11493376/11490434 [==============================] - 0s 0us/step\n",
            "11501568/11490434 [==============================] - 0s 0us/step\n"
          ]
        }
      ],
      "source": [
        "(X_train_full, y_train_full), (X_test, y_test) = keras.datasets.mnist.load_data()"
      ]
    },
    {
      "cell_type": "markdown",
      "metadata": {
        "id": "uFbDQB_e96n-"
      },
      "source": [
        "Just like for the Fashion MNIST dataset, the MNIST training set contains 60,000 grayscale images, each 28x28 pixels:"
      ]
    },
    {
      "cell_type": "code",
      "execution_count": 76,
      "metadata": {
        "id": "rKu9ctYq96n-",
        "outputId": "f4ba771e-f1eb-4cf0-be4f-85e2f544e7a0",
        "colab": {
          "base_uri": "https://localhost:8080/"
        }
      },
      "outputs": [
        {
          "output_type": "execute_result",
          "data": {
            "text/plain": [
              "(60000, 28, 28)"
            ]
          },
          "metadata": {},
          "execution_count": 76
        }
      ],
      "source": [
        "X_train_full.shape"
      ]
    },
    {
      "cell_type": "markdown",
      "metadata": {
        "id": "CjAPFHCy96n_"
      },
      "source": [
        "Each pixel intensity is also represented as a byte (0 to 255):"
      ]
    },
    {
      "cell_type": "code",
      "execution_count": 77,
      "metadata": {
        "id": "FKsd4QsX96n_",
        "outputId": "8053d80f-5827-4acd-d635-a6944113e3bb",
        "colab": {
          "base_uri": "https://localhost:8080/"
        }
      },
      "outputs": [
        {
          "output_type": "execute_result",
          "data": {
            "text/plain": [
              "dtype('uint8')"
            ]
          },
          "metadata": {},
          "execution_count": 77
        }
      ],
      "source": [
        "X_train_full.dtype"
      ]
    },
    {
      "cell_type": "markdown",
      "metadata": {
        "id": "pkMt_Ore96n_"
      },
      "source": [
        "Let's split the full training set into a validation set and a (smaller) training set. We also scale the pixel intensities down to the 0-1 range and convert them to floats, by dividing by 255, just like we did for Fashion MNIST:"
      ]
    },
    {
      "cell_type": "code",
      "execution_count": 78,
      "metadata": {
        "id": "yGsM7Im596n_"
      },
      "outputs": [],
      "source": [
        "X_valid, X_train = X_train_full[:5000] / 255., X_train_full[5000:] / 255.\n",
        "y_valid, y_train = y_train_full[:5000], y_train_full[5000:]\n",
        "X_test = X_test / 255."
      ]
    },
    {
      "cell_type": "code",
      "execution_count": 79,
      "metadata": {
        "id": "RWsiVrm_V3gT",
        "outputId": "3f65074c-1574-4880-c31c-238692acabd4",
        "colab": {
          "base_uri": "https://localhost:8080/"
        }
      },
      "outputs": [
        {
          "output_type": "execute_result",
          "data": {
            "text/plain": [
              "array([7, 3, 4, ..., 5, 6, 8], dtype=uint8)"
            ]
          },
          "metadata": {},
          "execution_count": 79
        }
      ],
      "source": [
        "y_train"
      ]
    },
    {
      "cell_type": "code",
      "execution_count": 80,
      "metadata": {
        "id": "XZykTLaiV3gT"
      },
      "outputs": [],
      "source": [
        "from sklearn.preprocessing import OneHotEncoder\n",
        "ohc_encoder = OneHotEncoder()\n",
        "ohc_encoder.fit(y_train.reshape(-1,1))\n",
        "y_train_ohc = ohc_encoder.transform(y_train.reshape(-1,1))\n",
        "y_valid_ohc = ohc_encoder.transform(y_valid.reshape(-1,1))\n",
        "y_test_ohc = ohc_encoder.transform(y_test.reshape(-1,1))"
      ]
    },
    {
      "cell_type": "code",
      "execution_count": 81,
      "metadata": {
        "id": "QXU2VKjlV3gU",
        "outputId": "2056d28c-4efd-4186-e657-fbd4b6f16fac",
        "colab": {
          "base_uri": "https://localhost:8080/"
        }
      },
      "outputs": [
        {
          "output_type": "execute_result",
          "data": {
            "text/plain": [
              "matrix([[0., 0., 0., ..., 1., 0., 0.],\n",
              "        [0., 0., 0., ..., 0., 0., 0.],\n",
              "        [0., 0., 0., ..., 0., 0., 0.],\n",
              "        ...,\n",
              "        [0., 0., 0., ..., 0., 0., 0.],\n",
              "        [0., 0., 0., ..., 0., 0., 0.],\n",
              "        [0., 0., 0., ..., 0., 1., 0.]])"
            ]
          },
          "metadata": {},
          "execution_count": 81
        }
      ],
      "source": [
        "y_train_ohc.todense()"
      ]
    },
    {
      "cell_type": "code",
      "execution_count": 82,
      "metadata": {
        "id": "Mk5szc1FV3gU"
      },
      "outputs": [],
      "source": [
        "keras.backend.clear_session()\n",
        "np.random.seed(42)\n",
        "tf.random.set_seed(42)"
      ]
    },
    {
      "cell_type": "markdown",
      "metadata": {
        "id": "e7eRWsI4V3gU"
      },
      "source": [
        "↓↓↓↓↓↓↓↓↓↓↓↓↓↓↓↓↓↓↓↓↓↓↓↓↓↓↓↓↓↓↓ your code goes below"
      ]
    },
    {
      "cell_type": "markdown",
      "source": [
        "\"*PlotLossesKeras*\" library is used to fit plot the live plot of loss and *accuracy*"
      ],
      "metadata": {
        "id": "4Udi8aDYReNN"
      }
    },
    {
      "cell_type": "code",
      "execution_count": 85,
      "metadata": {
        "id": "Djsttb-sV3gU"
      },
      "outputs": [],
      "source": [
        "from keras.callbacks import EarlyStopping\n",
        "from sklearn.preprocessing import LabelBinarizer\n",
        "from sklearn.model_selection import train_test_split\n",
        "from livelossplot import PlotLossesKeras\n"
      ]
    },
    {
      "cell_type": "code",
      "source": [
        "model = keras.models.Sequential([\n",
        "    keras.layers.Flatten(input_shape=[28,28]),\n",
        "    keras.layers.Dense(100, activation=\"relu\"),\n",
        "    keras.layers.Dense(100, activation=\"relu\"),\n",
        "    keras.layers.Dense(100, activation=\"relu\"),\n",
        "    keras.layers.Dense(10, activation = \"softmax\")\n",
        "])"
      ],
      "metadata": {
        "id": "vZGSnwNfRPTZ"
      },
      "execution_count": 86,
      "outputs": []
    },
    {
      "cell_type": "code",
      "source": [
        "model.compile(loss=\"categorical_crossentropy\",optimizer=keras.optimizers.Adam(learning_rate=0.0001),   metrics=[\"accuracy\"])\n"
      ],
      "metadata": {
        "id": "IpVFsxi7RPRJ"
      },
      "execution_count": 93,
      "outputs": []
    },
    {
      "cell_type": "code",
      "source": [
        "es = EarlyStopping(monitor = 'val_loss', patience = 10, min_delta = 0.0005, verbose = 1)\n"
      ],
      "metadata": {
        "id": "gHGedl3NRPO6"
      },
      "execution_count": 94,
      "outputs": []
    },
    {
      "cell_type": "code",
      "source": [
        "history= model.fit(X_train, y_train_ohc.todense(), epochs=20,batch_size = 70, validation_data=(X_valid, y_valid_ohc.todense()), callbacks = [es, PlotLossesKeras()])"
      ],
      "metadata": {
        "colab": {
          "base_uri": "https://localhost:8080/",
          "height": 731
        },
        "id": "Om-fEZeNRUa5",
        "outputId": "22bf4663-1cde-4c8d-aa3f-bcc8c28ab760"
      },
      "execution_count": 95,
      "outputs": [
        {
          "output_type": "display_data",
          "data": {
            "image/png": "[encoded data removed]",
            "text/plain": [
              "<Figure size 864x576 with 2 Axes>"
            ]
          },
          "metadata": {
            "needs_background": "light"
          }
        },
        {
          "output_type": "stream",
          "name": "stdout",
          "text": [
            "accuracy\n",
            "\ttraining         \t (min:    1.000, max:    1.000, cur:    1.000)\n",
            "\tvalidation       \t (min:    0.978, max:    0.982, cur:    0.982)\n",
            "Loss\n",
            "\ttraining         \t (min:    0.000, max:    0.000, cur:    0.000)\n",
            "\tvalidation       \t (min:    0.118, max:    0.148, cur:    0.136)\n",
            "\b\b\b\b\b\b\b\b\b\b\b\b\b\b\b\b\b\b\b\b\b\b\b\b\b\b\b\b\b\b\b\b\b\b\b\b\b\b\b\b\b\b\b\b\b\b\b\b\b\b\b\b\b\b\b\b\b\b\b\b\b\b\b\b\b\b\b\b\b\b\b\b\b\b\b\b\b\b\b\b\b\b\b\b\b\b\b\b\r786/786 [==============================] - 4s 5ms/step - loss: 2.2019e-05 - accuracy: 1.0000 - val_loss: 0.1363 - val_accuracy: 0.9816\n",
            "Epoch 11: early stopping\n"
          ]
        }
      ]
    },
    {
      "cell_type": "code",
      "source": [
        "model.evaluate(X_test, y_test_ohc.todense())"
      ],
      "metadata": {
        "colab": {
          "base_uri": "https://localhost:8080/"
        },
        "id": "4pgqly7MR0GE",
        "outputId": "805089e8-e0f9-4d82-97a9-56ebfc96eac8"
      },
      "execution_count": 96,
      "outputs": [
        {
          "output_type": "stream",
          "name": "stdout",
          "text": [
            "313/313 [==============================] - 1s 3ms/step - loss: 0.1363 - accuracy: 0.9808\n"
          ]
        },
        {
          "output_type": "execute_result",
          "data": {
            "text/plain": [
              "[0.13633549213409424, 0.9807999730110168]"
            ]
          },
          "metadata": {},
          "execution_count": 96
        }
      ]
    },
    {
      "cell_type": "code",
      "source": [
        "model.save(\"model_optional\")\n",
        "model.save_weights(\"model_optional.h5\")"
      ],
      "metadata": {
        "colab": {
          "base_uri": "https://localhost:8080/"
        },
        "id": "Mdi7wS64S-_1",
        "outputId": "4cddb9de-a92e-4f0e-e361-b6069977db72"
      },
      "execution_count": 97,
      "outputs": [
        {
          "output_type": "stream",
          "name": "stdout",
          "text": [
            "INFO:tensorflow:Assets written to: model_optional/assets\n"
          ]
        }
      ]
    },
    {
      "cell_type": "markdown",
      "metadata": {
        "id": "GTixUfpFV3gU"
      },
      "source": [
        "↑↑↑↑↑↑↑↑↑↑↑↑↑↑↑↑↑↑↑↑↑↑↑↑↑↑↑↑↑↑↑ your code goes above"
      ]
    }
  ],
  "metadata": {
    "accelerator": "GPU",
    "colab": {
      "collapsed_sections": [],
      "name": "Copy of 5_neural_nets_with_keras.ipynb",
      "provenance": [],
      "include_colab_link": true
    },
    "kernelspec": {
      "display_name": "Python 3",
      "language": "python",
      "name": "python3"
    },
    "language_info": {
      "codemirror_mode": {
        "name": "ipython",
        "version": 3
      },
      "file_extension": ".py",
      "mimetype": "text/x-python",
      "name": "python",
      "nbconvert_exporter": "python",
      "pygments_lexer": "ipython3",
      "version": "3.10.0"
    },
    "nav_menu": {
      "height": "264px",
      "width": "369px"
    },
    "toc": {
      "navigate_menu": true,
      "number_sections": true,
      "sideBar": true,
      "threshold": 6,
      "toc_cell": false,
      "toc_section_display": "block",
      "toc_window_display": false
    }
  },
  "nbformat": 4,
  "nbformat_minor": 0
}